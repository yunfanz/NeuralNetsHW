{
 "cells": [
  {
   "cell_type": "markdown",
   "metadata": {},
   "source": [
    "# Vanilla Policy Gradients for CartPole and Pong\n",
    "\n",
    "In this notebook, you will implement a Vanilla Policy Gradient algorithm to train an agent to play CartPole (and Pong later, if desired). This uses the OpenAI gym library. Make sure you can install and run it."
   ]
  },
  {
   "cell_type": "code",
   "execution_count": 1,
   "metadata": {
    "collapsed": false
   },
   "outputs": [],
   "source": [
    "# Some setup.\n",
    "\n",
    "import time\n",
    "import numpy as np\n",
    "import matplotlib.pyplot as plt\n",
    "from agents.policy_gradients import *\n",
    "\n",
    "%matplotlib inline\n",
    "plt.rcParams['figure.figsize'] = (10.0,8.0)\n",
    "plt.rcParams['image.interpolation'] = 'linear'\n",
    "plt.rcParams['image.cmap'] = 'gray'\n",
    "\n",
    "%load_ext autoreload\n",
    "%autoreload 2\n",
    "\n",
    "def rel_error(x,y):\n",
    "    \"\"\" Returns relative error. \"\"\"\n",
    "    return np.max( np.abs(x-y) / np.maximum(1e-8,np.abs(x)+np.abs(y)) )"
   ]
  },
  {
   "cell_type": "markdown",
   "metadata": {},
   "source": [
    "# Discounted Rewards\n",
    "\n",
    "With policy gradients, we need rewards to scale the gradient terms appropriately. Implement the method `discount_rewards` and test your implementation using the following cell. For some games, such as CartPole, we can sum the rewards by considering all of the subsequent rewards for a given episode. For Pong, however, the rewards should be reset to 0 after any player scores.\n",
    "\n",
    "You will need to take care of both cases (set by the `do_reset` parameter). Do this even if you do not plan to test with Pong."
   ]
  },
  {
   "cell_type": "code",
   "execution_count": 2,
   "metadata": {
    "collapsed": false
   },
   "outputs": [
    {
     "name": "stdout",
     "output_type": "stream",
     "text": [
      "3.32314264681e-09\n",
      "2.75945073001e-09\n"
     ]
    }
   ],
   "source": [
    "test = np.array([0,0,0,0,0,0,0,0,0,0,1,0,0,0,0,0,0,0,-1,0,0,0,0,0,0,0,-1], np.float)\n",
    "output_1 = [-0.70017483, -0.70724731, -0.71439122, -0.72160729, -0.72889625, -0.73625884,\n",
    "            -0.7436958,  -0.75120788, -0.75879584, -0.76646044, -0.77420247, -1.7921237,\n",
    "            -1.81022596, -1.82851107, -1.84698088, -1.86563725, -1.88448208, -1.90351725,\n",
    "            -1.92274469, -0.93206535, -0.94148015, -0.95099005, -0.96059601, -0.970299,\n",
    "            -0.9801,     -0.99,       -1.        ]\n",
    "output_2 = [ 0.90438208,  0.91351725,  0.92274469,  0.93206535,  0.94148015,  0.95099005,\n",
    "             0.96059601,  0.970299,    0.9801,      0.99,        1.,         -0.93206535,\n",
    "            -0.94148015, -0.95099005, -0.96059601, -0.970299,   -0.9801,    -0.99,     -1.,\n",
    "            -0.93206535, -0.94148015, -0.95099005, -0.96059601, -0.970299,  -0.9801, -0.99, -1.]\n",
    "\n",
    "PG = PolicyGradient()\n",
    "rewards_1 = PG.discount_rewards(test, do_reset=False)\n",
    "rewards_2 = PG.discount_rewards(test, do_reset=True)\n",
    "\n",
    "# Should be around 1e-9\n",
    "#print(rewards_1.shape, output_1.shape)\n",
    "print(rel_error(output_1, rewards_1))\n",
    "print(rel_error(output_2, rewards_2))"
   ]
  },
  {
   "cell_type": "markdown",
   "metadata": {},
   "source": [
    "# Policy Gradients for CartPole\n",
    "\n",
    "There are three places in the code to fill:\n",
    "\n",
    "1. The method `policy_backward`, which will compute the gradients.\n",
    "2. In the `train` method, you need to write the gradient for the final output layer (i.e., the last gradient in the overall computational graph) and store that in a list to be used at the end of the episode.\n",
    "3. Also in the `train` method, you need to utilize the discounted rewards you wrote and integrate it into the computation of the gradient. In addition, you need to keep the overall `grad_buffer` up to date.\n",
    "\n",
    "After you complete these, you should be able to train your agent on CartPole (and Pong, if desired).\n",
    "\n",
    "To get full credit for this portion run CartPole with `max_episodes=400`, and report the final running reward, as well as a plot of all the running reward values. (The cell after the training call should do these two automatically.) You should aim to get a final running_reward of **at least 200.00**, and the plot for the running_rewards should show a clear upward trend, though it may sometimes decrease if there are games that last abnormally long. For reference, our implementation usually achieves running rewards of 500-5000 after 400 episodes. From our experience, the performance varies a lot with CartPole; we have gotten scores as high as a million, so save any output that meets the 200-score requirement.\n",
    "\n",
    "Some additional comments:\n",
    "\n",
    "1. You do not need to change the default hyperparameters provided, such as `learning_rate`. If you need to change one of them to get the minimum performance -- or if you think there's a compelling reason to do so -- explain your changes in a new text/Markdown cell.\n",
    "\n",
    "2. Please keep `print_every=2` (or some other reasonable value) so that we can spot-check the rewards and running rewards per episode."
   ]
  },
  {
   "cell_type": "code",
   "execution_count": 116,
   "metadata": {
    "collapsed": false,
    "scrolled": true
   },
   "outputs": [
    {
     "name": "stderr",
     "output_type": "stream",
     "text": [
      "[2016-11-21 21:38:02,143] Making new env: CartPole-v0\n"
     ]
    },
    {
     "name": "stdout",
     "output_type": "stream",
     "text": [
      "Ep. 2 done, reward: 12.0, running_reward: 13.9800, time (sec): 0.0092\n",
      "Ep. 4 done, reward: 20.0, running_reward: 14.0404, time (sec): 0.0180\n",
      "Ep. 6 done, reward: 19.0, running_reward: 14.0797, time (sec): 0.0272\n",
      "Ep. 8 done, reward: 9.0, running_reward: 14.2756, time (sec): 0.0381\n",
      "Ep. 10 done, reward: 18.0, running_reward: 14.2903, time (sec): 0.0422\n",
      "Ep. 12 done, reward: 18.0, running_reward: 14.3542, time (sec): 0.0473\n",
      "Ep. 14 done, reward: 25.0, running_reward: 14.5661, time (sec): 0.0541\n",
      "Ep. 16 done, reward: 13.0, running_reward: 14.6339, time (sec): 0.0592\n",
      "Ep. 18 done, reward: 22.0, running_reward: 15.3052, time (sec): 0.0735\n",
      "Ep. 20 done, reward: 15.0, running_reward: 15.4476, time (sec): 0.0800\n",
      "Ep. 22 done, reward: 35.0, running_reward: 15.6981, time (sec): 0.0873\n",
      "Ep. 24 done, reward: 32.0, running_reward: 15.9037, time (sec): 0.0931\n",
      "Ep. 26 done, reward: 39.0, running_reward: 16.1258, time (sec): 0.0994\n",
      "Ep. 28 done, reward: 26.0, running_reward: 16.3916, time (sec): 0.1056\n",
      "Ep. 30 done, reward: 64.0, running_reward: 17.2994, time (sec): 0.1185\n",
      "Ep. 32 done, reward: 56.0, running_reward: 17.8913, time (sec): 0.1293\n",
      "Ep. 34 done, reward: 56.0, running_reward: 18.4715, time (sec): 0.1424\n",
      "Ep. 36 done, reward: 46.0, running_reward: 19.1678, time (sec): 0.1535\n",
      "Ep. 38 done, reward: 44.0, running_reward: 20.2361, time (sec): 0.1689\n",
      "Ep. 40 done, reward: 43.0, running_reward: 20.3921, time (sec): 0.1759\n",
      "Ep. 42 done, reward: 27.0, running_reward: 20.3949, time (sec): 0.1820\n",
      "Ep. 44 done, reward: 98.0, running_reward: 21.6027, time (sec): 0.2025\n",
      "Ep. 46 done, reward: 50.0, running_reward: 21.9797, time (sec): 0.2128\n",
      "Ep. 48 done, reward: 31.0, running_reward: 22.1295, time (sec): 0.2221\n",
      "Ep. 50 done, reward: 32.0, running_reward: 22.4447, time (sec): 0.2355\n",
      "Ep. 52 done, reward: 47.0, running_reward: 22.8245, time (sec): 0.2456\n",
      "Ep. 54 done, reward: 87.0, running_reward: 23.6165, time (sec): 0.2604\n",
      "Ep. 56 done, reward: 41.0, running_reward: 24.1802, time (sec): 0.2724\n",
      "Ep. 58 done, reward: 92.0, running_reward: 25.4407, time (sec): 0.2965\n",
      "Ep. 60 done, reward: 67.0, running_reward: 25.8321, time (sec): 0.3070\n",
      "Ep. 62 done, reward: 185.0, running_reward: 27.4948, time (sec): 0.3338\n",
      "Ep. 64 done, reward: 90.0, running_reward: 29.1544, time (sec): 0.3586\n",
      "Ep. 66 done, reward: 51.0, running_reward: 29.5694, time (sec): 0.3695\n",
      "Ep. 68 done, reward: 139.0, running_reward: 31.5688, time (sec): 0.3995\n",
      "Ep. 70 done, reward: 34.0, running_reward: 31.4588, time (sec): 0.4050\n",
      "Ep. 72 done, reward: 23.0, running_reward: 31.4489, time (sec): 0.4122\n",
      "Ep. 74 done, reward: 80.0, running_reward: 31.9299, time (sec): 0.4242\n",
      "Ep. 76 done, reward: 170.0, running_reward: 33.7568, time (sec): 0.4582\n",
      "Ep. 78 done, reward: 29.0, running_reward: 34.5730, time (sec): 0.4763\n",
      "Ep. 80 done, reward: 58.0, running_reward: 35.5540, time (sec): 0.4959\n",
      "Ep. 82 done, reward: 85.0, running_reward: 36.3598, time (sec): 0.5134\n",
      "Ep. 84 done, reward: 212.0, running_reward: 39.3204, time (sec): 0.5656\n",
      "Ep. 86 done, reward: 68.0, running_reward: 40.2277, time (sec): 0.5853\n",
      "Ep. 88 done, reward: 102.0, running_reward: 41.3283, time (sec): 0.6089\n",
      "Ep. 90 done, reward: 92.0, running_reward: 43.3663, time (sec): 0.6458\n",
      "Ep. 92 done, reward: 22.0, running_reward: 43.3965, time (sec): 0.6619\n",
      "Ep. 94 done, reward: 100.0, running_reward: 47.0771, time (sec): 0.7364\n",
      "Ep. 96 done, reward: 165.0, running_reward: 48.7802, time (sec): 0.7774\n",
      "Ep. 98 done, reward: 397.0, running_reward: 52.9675, time (sec): 0.8551\n",
      "Ep. 100 done, reward: 246.0, running_reward: 59.2839, time (sec): 0.9615\n",
      "Ep. 102 done, reward: 113.0, running_reward: 60.6201, time (sec): 0.9943\n",
      "Ep. 104 done, reward: 117.0, running_reward: 62.2173, time (sec): 1.0306\n",
      "Ep. 106 done, reward: 101.0, running_reward: 63.2860, time (sec): 1.0599\n",
      "Ep. 108 done, reward: 115.0, running_reward: 64.8696, time (sec): 1.1053\n",
      "Ep. 110 done, reward: 170.0, running_reward: 65.5955, time (sec): 1.1305\n",
      "Ep. 112 done, reward: 157.0, running_reward: 67.0382, time (sec): 1.1672\n",
      "Ep. 114 done, reward: 83.0, running_reward: 66.8311, time (sec): 1.1873\n",
      "Ep. 116 done, reward: 186.0, running_reward: 68.9254, time (sec): 1.2315\n",
      "Ep. 118 done, reward: 99.0, running_reward: 69.2170, time (sec): 1.2507\n",
      "Ep. 120 done, reward: 115.0, running_reward: 71.7517, time (sec): 1.3028\n",
      "Ep. 122 done, reward: 66.0, running_reward: 72.6668, time (sec): 1.3328\n",
      "Ep. 124 done, reward: 291.0, running_reward: 74.5168, time (sec): 1.3938\n",
      "Ep. 126 done, reward: 581.0, running_reward: 86.3878, time (sec): 1.6073\n",
      "Ep. 128 done, reward: 228.0, running_reward: 88.6514, time (sec): 1.6610\n",
      "Ep. 130 done, reward: 285.0, running_reward: 90.5194, time (sec): 1.7090\n",
      "Ep. 132 done, reward: 301.0, running_reward: 94.7970, time (sec): 1.7856\n",
      "Ep. 134 done, reward: 183.0, running_reward: 97.2948, time (sec): 1.8438\n",
      "Ep. 136 done, reward: 209.0, running_reward: 98.2109, time (sec): 1.8859\n",
      "Ep. 138 done, reward: 248.0, running_reward: 99.5483, time (sec): 1.9269\n",
      "Ep. 140 done, reward: 191.0, running_reward: 101.3286, time (sec): 1.9735\n",
      "Ep. 142 done, reward: 68.0, running_reward: 100.8238, time (sec): 1.9953\n",
      "Ep. 144 done, reward: 142.0, running_reward: 103.3460, time (sec): 2.0572\n",
      "Ep. 146 done, reward: 248.0, running_reward: 103.9674, time (sec): 2.0895\n",
      "Ep. 148 done, reward: 27.0, running_reward: 104.6533, time (sec): 2.1242\n",
      "Ep. 150 done, reward: 104.0, running_reward: 105.4224, time (sec): 2.1691\n",
      "Ep. 152 done, reward: 153.0, running_reward: 105.5574, time (sec): 2.1941\n",
      "Ep. 154 done, reward: 122.0, running_reward: 105.7856, time (sec): 2.2202\n",
      "Ep. 156 done, reward: 200.0, running_reward: 107.5813, time (sec): 2.2679\n",
      "Ep. 158 done, reward: 318.0, running_reward: 110.6103, time (sec): 2.3395\n",
      "Ep. 160 done, reward: 165.0, running_reward: 111.5640, time (sec): 2.3919\n",
      "Ep. 162 done, reward: 304.0, running_reward: 113.5818, time (sec): 2.4626\n",
      "Ep. 164 done, reward: 155.0, running_reward: 114.6733, time (sec): 2.5089\n",
      "Ep. 166 done, reward: 41.0, running_reward: 114.2962, time (sec): 2.5311\n",
      "Ep. 168 done, reward: 146.0, running_reward: 114.7390, time (sec): 2.5633\n",
      "Ep. 170 done, reward: 68.0, running_reward: 114.5019, time (sec): 2.5915\n",
      "Ep. 172 done, reward: 171.0, running_reward: 115.4183, time (sec): 2.6294\n",
      "Ep. 174 done, reward: 273.0, running_reward: 116.1386, time (sec): 2.6645\n",
      "Ep. 176 done, reward: 160.0, running_reward: 118.5657, time (sec): 2.7335\n",
      "Ep. 178 done, reward: 284.0, running_reward: 120.8580, time (sec): 2.7947\n",
      "Ep. 180 done, reward: 212.0, running_reward: 122.3846, time (sec): 2.8408\n",
      "Ep. 182 done, reward: 126.0, running_reward: 123.4960, time (sec): 2.8873\n",
      "Ep. 184 done, reward: 112.0, running_reward: 126.9600, time (sec): 2.9798\n",
      "Ep. 186 done, reward: 95.0, running_reward: 127.7100, time (sec): 3.0233\n",
      "Ep. 188 done, reward: 87.0, running_reward: 126.7711, time (sec): 3.0443\n",
      "Ep. 190 done, reward: 159.0, running_reward: 127.5115, time (sec): 3.0882\n",
      "Ep. 192 done, reward: 174.0, running_reward: 128.3772, time (sec): 3.1325\n",
      "Ep. 194 done, reward: 264.0, running_reward: 129.5911, time (sec): 3.1816\n",
      "Ep. 196 done, reward: 375.0, running_reward: 132.6432, time (sec): 3.2762\n",
      "Ep. 198 done, reward: 274.0, running_reward: 133.5851, time (sec): 3.3239\n",
      "Ep. 200 done, reward: 286.0, running_reward: 138.9843, time (sec): 3.4401\n",
      "Ep. 202 done, reward: 280.0, running_reward: 141.5133, time (sec): 3.5295\n",
      "Ep. 204 done, reward: 222.0, running_reward: 143.0655, time (sec): 3.5815\n",
      "Ep. 206 done, reward: 539.0, running_reward: 151.9445, time (sec): 3.7792\n",
      "Ep. 208 done, reward: 192.0, running_reward: 156.8105, time (sec): 3.8854\n",
      "Ep. 210 done, reward: 237.0, running_reward: 158.7033, time (sec): 3.9520\n",
      "Ep. 212 done, reward: 283.0, running_reward: 159.2265, time (sec): 4.0129\n",
      "Ep. 214 done, reward: 333.0, running_reward: 162.1500, time (sec): 4.1071\n",
      "Ep. 216 done, reward: 133.0, running_reward: 162.2728, time (sec): 4.1614\n",
      "Ep. 218 done, reward: 98.0, running_reward: 161.2215, time (sec): 4.1923\n",
      "Ep. 220 done, reward: 156.0, running_reward: 161.1571, time (sec): 4.2358\n",
      "Ep. 222 done, reward: 136.0, running_reward: 161.3792, time (sec): 4.2959\n",
      "Ep. 224 done, reward: 160.0, running_reward: 164.0248, time (sec): 4.3821\n",
      "Ep. 226 done, reward: 241.0, running_reward: 164.7151, time (sec): 4.4391\n",
      "Ep. 228 done, reward: 456.0, running_reward: 169.0068, time (sec): 4.5532\n",
      "Ep. 230 done, reward: 177.0, running_reward: 168.7996, time (sec): 4.5999\n",
      "Ep. 232 done, reward: 231.0, running_reward: 169.7008, time (sec): 4.6578\n",
      "Ep. 234 done, reward: 201.0, running_reward: 170.6306, time (sec): 4.7122\n",
      "Ep. 236 done, reward: 182.0, running_reward: 170.3816, time (sec): 4.7523\n",
      "Ep. 238 done, reward: 590.0, running_reward: 175.7818, time (sec): 4.8777\n",
      "Ep. 240 done, reward: 376.0, running_reward: 184.9142, time (sec): 5.0734\n",
      "Ep. 242 done, reward: 456.0, running_reward: 188.6951, time (sec): 5.1922\n",
      "Ep. 244 done, reward: 392.0, running_reward: 190.6420, time (sec): 5.2684\n",
      "Ep. 246 done, reward: 432.0, running_reward: 193.4057, time (sec): 5.3631\n",
      "Ep. 248 done, reward: 356.0, running_reward: 194.4138, time (sec): 5.4410\n",
      "Ep. 250 done, reward: 348.0, running_reward: 195.9554, time (sec): 5.5079\n",
      "Ep. 252 done, reward: 1366.0, running_reward: 216.3287, time (sec): 5.9468\n",
      "Ep. 254 done, reward: 229.0, running_reward: 216.6799, time (sec): 6.0096\n",
      "Ep. 256 done, reward: 422.0, running_reward: 229.1709, time (sec): 6.3544\n",
      "Ep. 258 done, reward: 1384.0, running_reward: 244.9844, time (sec): 6.7314\n",
      "Ep. 260 done, reward: 621.0, running_reward: 253.8927, time (sec): 6.9963\n",
      "Ep. 262 done, reward: 227.0, running_reward: 253.4961, time (sec): 7.0590\n",
      "Ep. 264 done, reward: 302.0, running_reward: 257.1739, time (sec): 7.1747\n",
      "Ep. 266 done, reward: 249.0, running_reward: 257.5954, time (sec): 7.2601\n",
      "Ep. 268 done, reward: 405.0, running_reward: 259.1427, time (sec): 7.3498\n",
      "Ep. 270 done, reward: 206.0, running_reward: 259.4811, time (sec): 7.4181\n",
      "Ep. 272 done, reward: 262.0, running_reward: 260.8380, time (sec): 7.5100\n",
      "Ep. 274 done, reward: 275.0, running_reward: 260.4763, time (sec): 7.5684\n",
      "Ep. 276 done, reward: 319.0, running_reward: 262.3439, time (sec): 7.6540\n",
      "Ep. 278 done, reward: 222.0, running_reward: 261.2341, time (sec): 7.7019\n",
      "Ep. 280 done, reward: 688.0, running_reward: 265.4302, time (sec): 7.8440\n",
      "Ep. 282 done, reward: 220.0, running_reward: 265.3676, time (sec): 7.9167\n",
      "Ep. 284 done, reward: 614.0, running_reward: 267.9197, time (sec): 8.0629\n",
      "Ep. 286 done, reward: 483.0, running_reward: 270.7643, time (sec): 8.1787\n",
      "Ep. 288 done, reward: 443.0, running_reward: 274.9640, time (sec): 8.3246\n",
      "Ep. 290 done, reward: 207.0, running_reward: 273.0274, time (sec): 8.3731\n",
      "Ep. 292 done, reward: 855.0, running_reward: 285.1333, time (sec): 8.6797\n",
      "Ep. 294 done, reward: 226.0, running_reward: 284.4219, time (sec): 8.7463\n",
      "Ep. 296 done, reward: 261.0, running_reward: 283.9360, time (sec): 8.8234\n",
      "Ep. 298 done, reward: 614.0, running_reward: 286.6730, time (sec): 8.9549\n",
      "Ep. 300 done, reward: 399.0, running_reward: 288.2747, time (sec): 9.0610\n",
      "Ep. 302 done, reward: 749.0, running_reward: 301.4922, time (sec): 9.3964\n",
      "Ep. 304 done, reward: 1251.0, running_reward: 312.5565, time (sec): 9.6902\n",
      "Ep. 306 done, reward: 220.0, running_reward: 310.8829, time (sec): 9.7515\n",
      "Ep. 308 done, reward: 586.0, running_reward: 316.0509, time (sec): 9.9252\n",
      "Ep. 310 done, reward: 932.0, running_reward: 321.1209, time (sec): 10.1017\n",
      "Ep. 312 done, reward: 628.0, running_reward: 333.4648, time (sec): 10.4211\n",
      "Ep. 314 done, reward: 805.0, running_reward: 338.7002, time (sec): 10.5816\n",
      "Ep. 316 done, reward: 3797.0, running_reward: 384.4138, time (sec): 12.1012\n",
      "Ep. 318 done, reward: 3399.0, running_reward: 414.1100, time (sec): 13.0657\n",
      "Ep. 320 done, reward: 1031.0, running_reward: 422.9508, time (sec): 13.3318\n",
      "Ep. 322 done, reward: 539.0, running_reward: 429.9231, time (sec): 13.5767\n",
      "Ep. 324 done, reward: 472.0, running_reward: 430.4734, time (sec): 13.7064\n",
      "Ep. 326 done, reward: 462.0, running_reward: 430.9324, time (sec): 13.8984\n",
      "Ep. 328 done, reward: 704.0, running_reward: 437.2179, time (sec): 14.1496\n",
      "Ep. 330 done, reward: 559.0, running_reward: 436.1565, time (sec): 14.2564\n",
      "Ep. 332 done, reward: 455.0, running_reward: 437.5809, time (sec): 14.4309\n",
      "Ep. 334 done, reward: 346.0, running_reward: 436.6792, time (sec): 14.5516\n",
      "Ep. 336 done, reward: 339.0, running_reward: 433.5771, time (sec): 14.6287\n",
      "Ep. 338 done, reward: 541.0, running_reward: 432.4478, time (sec): 14.7423\n",
      "Ep. 340 done, reward: 438.0, running_reward: 431.1723, time (sec): 14.8389\n",
      "Ep. 342 done, reward: 446.0, running_reward: 430.0417, time (sec): 14.9479\n",
      "Ep. 344 done, reward: 720.0, running_reward: 434.6140, time (sec): 15.1506\n",
      "Ep. 346 done, reward: 347.0, running_reward: 439.6520, time (sec): 15.3920\n",
      "Ep. 348 done, reward: 220.0, running_reward: 436.1224, time (sec): 15.4697\n",
      "Ep. 350 done, reward: 458.0, running_reward: 436.7657, time (sec): 15.6031\n",
      "Whew! All done with 350 episodes!\n"
     ]
    }
   ],
   "source": [
    "# Train an agent to play CartPole.\n",
    "PG = PolicyGradient(D=4, H=30, learning_rate=0.01)\n",
    "PG.train(environment=\"CartPole-v0\", max_episodes=350, print_every=2)"
   ]
  },
  {
   "cell_type": "code",
   "execution_count": 117,
   "metadata": {
    "collapsed": false,
    "scrolled": true
   },
   "outputs": [
    {
     "name": "stdout",
     "output_type": "stream",
     "text": [
      "Final CartPole running reward: 436.765669494\n"
     ]
    },
    {
     "data": {
      "text/plain": [
       "<matplotlib.text.Text at 0x10d908710>"
      ]
     },
     "execution_count": 117,
     "metadata": {},
     "output_type": "execute_result"
    },
    {
     "data": {
      "image/png": "[encoded data removed]",
      "text/plain": [
       "<matplotlib.figure.Figure at 0x10dbb9bd0>"
      ]
     },
     "metadata": {},
     "output_type": "display_data"
    }
   ],
   "source": [
    "# Print final running_reward and plot the results.\n",
    "print(\"Final CartPole running reward: {}\".format(PG.running_rewards[-1]))\n",
    "plt.figure()\n",
    "plt.plot(PG.running_rewards)\n",
    "plt.title(\"Running Rewards for CartPole\")\n",
    "plt.xlabel(\"Training Episodes\")\n",
    "plt.ylabel(\"Scores\")"
   ]
  },
  {
   "cell_type": "markdown",
   "metadata": {},
   "source": [
    "Most computers should be able to run larger, image-based environments like Pong. Although it will take much longer, especially on older machines, so this step is optional. To run Pong, do:"
   ]
  },
  {
   "cell_type": "code",
   "execution_count": 6,
   "metadata": {
    "collapsed": false,
    "scrolled": true
   },
   "outputs": [
    {
     "name": "stderr",
     "output_type": "stream",
     "text": [
      "[2016-11-22 03:43:34,143] Making new env: Pong-v0\n"
     ]
    },
    {
     "name": "stdout",
     "output_type": "stream",
     "text": [
      "Ep. 20 done, reward: -20.0, running_reward: -20.9260, time (sec): 32.3112\n",
      "Ep. 40 done, reward: -21.0, running_reward: -20.8558, time (sec): 64.8629\n",
      "Ep. 60 done, reward: -21.0, running_reward: -20.7778, time (sec): 100.1052\n",
      "Ep. 80 done, reward: -21.0, running_reward: -20.6273, time (sec): 136.8601\n",
      "Ep. 100 done, reward: -21.0, running_reward: -20.6026, time (sec): 171.1788\n",
      "Ep. 120 done, reward: -20.0, running_reward: -20.4672, time (sec): 209.9705\n",
      "Ep. 140 done, reward: -19.0, running_reward: -20.3908, time (sec): 246.9506\n",
      "Ep. 160 done, reward: -20.0, running_reward: -20.2671, time (sec): 287.0484\n",
      "Ep. 180 done, reward: -19.0, running_reward: -20.2174, time (sec): 325.5947\n",
      "Ep. 200 done, reward: -20.0, running_reward: -20.1692, time (sec): 363.5818\n",
      "Ep. 220 done, reward: -20.0, running_reward: -20.0454, time (sec): 404.4523\n",
      "Ep. 240 done, reward: -20.0, running_reward: -20.0049, time (sec): 446.1347\n",
      "Ep. 260 done, reward: -18.0, running_reward: -19.9260, time (sec): 487.6673\n",
      "Ep. 280 done, reward: -21.0, running_reward: -19.9212, time (sec): 529.3444\n",
      "Ep. 300 done, reward: -18.0, running_reward: -19.8155, time (sec): 573.2084\n",
      "Ep. 320 done, reward: -15.0, running_reward: -19.7081, time (sec): 618.7877\n",
      "Ep. 340 done, reward: -19.0, running_reward: -19.7332, time (sec): 662.1547\n",
      "Ep. 360 done, reward: -16.0, running_reward: -19.6325, time (sec): 710.5860\n",
      "Ep. 380 done, reward: -16.0, running_reward: -19.4607, time (sec): 757.8445\n",
      "Ep. 400 done, reward: -19.0, running_reward: -19.3570, time (sec): 809.4096\n",
      "Ep. 420 done, reward: -17.0, running_reward: -19.3105, time (sec): 858.0570\n",
      "Ep. 440 done, reward: -20.0, running_reward: -19.3827, time (sec): 908.1909\n",
      "Ep. 460 done, reward: -20.0, running_reward: -19.3185, time (sec): 954.8050\n",
      "Ep. 480 done, reward: -20.0, running_reward: -19.1731, time (sec): 1009.8235\n",
      "Ep. 500 done, reward: -17.0, running_reward: -19.0550, time (sec): 1060.8252\n",
      "Ep. 520 done, reward: -21.0, running_reward: -18.9522, time (sec): 1116.1444\n",
      "Ep. 540 done, reward: -19.0, running_reward: -18.8709, time (sec): 1174.3592\n",
      "Ep. 560 done, reward: -18.0, running_reward: -18.8149, time (sec): 1232.0446\n",
      "Ep. 580 done, reward: -21.0, running_reward: -18.7963, time (sec): 1289.1774\n",
      "Ep. 600 done, reward: -18.0, running_reward: -18.6093, time (sec): 1346.4726\n",
      "Ep. 620 done, reward: -16.0, running_reward: -18.4649, time (sec): 1408.5117\n",
      "Ep. 640 done, reward: -16.0, running_reward: -18.3657, time (sec): 1463.7696\n",
      "Ep. 660 done, reward: -19.0, running_reward: -18.3262, time (sec): 1520.9417\n",
      "Ep. 680 done, reward: -18.0, running_reward: -18.3697, time (sec): 1581.5119\n",
      "Ep. 700 done, reward: -19.0, running_reward: -18.3486, time (sec): 1643.1655\n",
      "Ep. 720 done, reward: -19.0, running_reward: -18.1789, time (sec): 1708.0437\n",
      "Ep. 740 done, reward: -20.0, running_reward: -18.1348, time (sec): 1772.9356\n",
      "Ep. 760 done, reward: -14.0, running_reward: -18.0669, time (sec): 1838.9700\n",
      "Ep. 780 done, reward: -19.0, running_reward: -18.0437, time (sec): 1904.3344\n",
      "Ep. 800 done, reward: -15.0, running_reward: -18.1084, time (sec): 1968.6984\n",
      "Ep. 820 done, reward: -16.0, running_reward: -18.0310, time (sec): 2038.4807\n",
      "Ep. 840 done, reward: -19.0, running_reward: -17.9877, time (sec): 2101.9255\n",
      "Ep. 860 done, reward: -17.0, running_reward: -17.7814, time (sec): 2169.7838\n",
      "Ep. 880 done, reward: -19.0, running_reward: -17.7979, time (sec): 2238.8348\n",
      "Ep. 900 done, reward: -15.0, running_reward: -17.6591, time (sec): 2308.0796\n",
      "Ep. 920 done, reward: -19.0, running_reward: -17.6025, time (sec): 2380.6535\n",
      "Ep. 940 done, reward: -14.0, running_reward: -17.3576, time (sec): 2457.0208\n",
      "Ep. 960 done, reward: -18.0, running_reward: -17.3597, time (sec): 2527.1002\n",
      "Ep. 980 done, reward: -17.0, running_reward: -17.2189, time (sec): 2604.1293\n",
      "Ep. 1000 done, reward: -15.0, running_reward: -17.1971, time (sec): 2679.7066\n",
      "Ep. 1020 done, reward: -18.0, running_reward: -17.1509, time (sec): 2756.0264\n",
      "Ep. 1040 done, reward: -12.0, running_reward: -17.0465, time (sec): 2833.6760\n",
      "Ep. 1060 done, reward: -16.0, running_reward: -16.9447, time (sec): 2915.1627\n",
      "Ep. 1080 done, reward: -20.0, running_reward: -16.9137, time (sec): 2995.5471\n",
      "Ep. 1100 done, reward: -18.0, running_reward: -16.8006, time (sec): 3083.8397\n",
      "Ep. 1120 done, reward: -15.0, running_reward: -16.5839, time (sec): 3173.9568\n",
      "Ep. 1140 done, reward: -16.0, running_reward: -16.3760, time (sec): 3264.0109\n",
      "Ep. 1160 done, reward: -14.0, running_reward: -16.4080, time (sec): 3348.7913\n",
      "Ep. 1180 done, reward: -16.0, running_reward: -16.4387, time (sec): 3434.6443\n",
      "Ep. 1200 done, reward: -16.0, running_reward: -16.3682, time (sec): 3520.6779\n",
      "Ep. 1220 done, reward: -17.0, running_reward: -16.2767, time (sec): 3607.9615\n",
      "Ep. 1240 done, reward: -16.0, running_reward: -16.2168, time (sec): 3693.4153\n",
      "Ep. 1260 done, reward: -18.0, running_reward: -16.3101, time (sec): 3775.6374\n",
      "Ep. 1280 done, reward: -15.0, running_reward: -16.2452, time (sec): 3871.7815\n",
      "Ep. 1300 done, reward: -16.0, running_reward: -16.2703, time (sec): 3960.4896\n",
      "Ep. 1320 done, reward: -15.0, running_reward: -16.0255, time (sec): 4061.7204\n",
      "Ep. 1340 done, reward: -14.0, running_reward: -15.9315, time (sec): 4158.0711\n",
      "Ep. 1360 done, reward: -18.0, running_reward: -15.9546, time (sec): 4250.8362\n",
      "Ep. 1380 done, reward: -17.0, running_reward: -15.7209, time (sec): 4352.4919\n",
      "Ep. 1400 done, reward: -8.0, running_reward: -15.5604, time (sec): 4445.5418\n",
      "Ep. 1420 done, reward: -15.0, running_reward: -15.4321, time (sec): 4541.8048\n",
      "Ep. 1440 done, reward: -17.0, running_reward: -15.2683, time (sec): 4639.8992\n",
      "Ep. 1460 done, reward: -17.0, running_reward: -15.1073, time (sec): 4747.0414\n",
      "Ep. 1480 done, reward: -16.0, running_reward: -15.0890, time (sec): 4843.3967\n",
      "Ep. 1500 done, reward: -20.0, running_reward: -15.2666, time (sec): 4947.2363\n",
      "Ep. 1520 done, reward: -15.0, running_reward: -14.8420, time (sec): 5051.0135\n",
      "Ep. 1540 done, reward: -12.0, running_reward: -14.6196, time (sec): 5164.1452\n",
      "Ep. 1560 done, reward: -11.0, running_reward: -14.5622, time (sec): 5262.5910\n",
      "Ep. 1580 done, reward: -10.0, running_reward: -14.3486, time (sec): 5371.1758\n",
      "Ep. 1600 done, reward: -13.0, running_reward: -14.3217, time (sec): 5488.7339\n",
      "Ep. 1620 done, reward: -18.0, running_reward: -13.9848, time (sec): 5603.6186\n",
      "Ep. 1640 done, reward: -8.0, running_reward: -14.0557, time (sec): 5716.5499\n",
      "Ep. 1660 done, reward: -14.0, running_reward: -14.0614, time (sec): 5826.7789\n",
      "Ep. 1680 done, reward: -12.0, running_reward: -14.1538, time (sec): 5936.6836\n",
      "Ep. 1700 done, reward: -10.0, running_reward: -14.2072, time (sec): 6044.4408\n",
      "Ep. 1720 done, reward: -16.0, running_reward: -13.8675, time (sec): 6169.6950\n",
      "Ep. 1740 done, reward: -9.0, running_reward: -13.8205, time (sec): 6284.1772\n",
      "Ep. 1760 done, reward: -11.0, running_reward: -13.9051, time (sec): 6393.5309\n",
      "Ep. 1780 done, reward: -12.0, running_reward: -13.6120, time (sec): 6516.5339\n",
      "Ep. 1800 done, reward: -7.0, running_reward: -13.4774, time (sec): 6643.9308\n",
      "Ep. 1820 done, reward: -7.0, running_reward: -13.1731, time (sec): 6767.7669\n",
      "Ep. 1840 done, reward: -11.0, running_reward: -13.0545, time (sec): 6893.2688\n",
      "Ep. 1860 done, reward: -15.0, running_reward: -12.9537, time (sec): 7022.3486\n",
      "Ep. 1880 done, reward: -7.0, running_reward: -13.1587, time (sec): 7133.3593\n",
      "Ep. 1900 done, reward: -8.0, running_reward: -12.9827, time (sec): 7254.0863\n",
      "Ep. 1920 done, reward: -14.0, running_reward: -12.7985, time (sec): 7374.1939\n",
      "Ep. 1940 done, reward: -15.0, running_reward: -12.6728, time (sec): 7500.3589\n",
      "Ep. 1960 done, reward: -9.0, running_reward: -12.7376, time (sec): 7625.4043\n",
      "Ep. 1980 done, reward: -8.0, running_reward: -12.7078, time (sec): 7743.9603\n",
      "Ep. 2000 done, reward: -13.0, running_reward: -12.3193, time (sec): 7884.2899\n",
      "Whew! All done with 2000 episodes!\n"
     ]
    }
   ],
   "source": [
    "PG = PolicyGradient(D=80*80, H=200, learning_rate=0.001)\n",
    "PG.train(environment=\"Pong-v0\", max_episodes=2000, print_every=20)\n"
   ]
  },
  {
   "cell_type": "code",
   "execution_count": 7,
   "metadata": {
    "collapsed": false
   },
   "outputs": [
    {
     "name": "stdout",
     "output_type": "stream",
     "text": [
      "Final Pong running reward: -12.3193046321\n"
     ]
    },
    {
     "data": {
      "text/plain": [
       "<matplotlib.text.Text at 0x7f3fa9832e50>"
      ]
     },
     "execution_count": 7,
     "metadata": {},
     "output_type": "execute_result"
    },
    {
     "data": {
      "image/png": "[encoded data removed]",
      "text/plain": [
       "<matplotlib.figure.Figure at 0x7f3fa986f850>"
      ]
     },
     "metadata": {},
     "output_type": "display_data"
    }
   ],
   "source": [
    "# Plot results.\n",
    "print(\"Final Pong running reward: {}\".format(PG.running_rewards[-1]))\n",
    "plt.figure()\n",
    "plt.plot(PG.running_rewards)\n",
    "plt.title(\"Running Rewards for Pong\")\n",
    "plt.xlabel(\"Training Episodes\")\n",
    "plt.ylabel(\"Scores\")"
   ]
  },
  {
   "cell_type": "markdown",
   "metadata": {},
   "source": [
    "# Optional\n",
    "\n",
    "Congratulations on implementing Policy Gradients! \n",
    "\n",
    "Consider doing the following extensions:\n",
    "\n",
    "1. Run the Pong code from the cells above and tune for best performance. Summarize your results. \n",
    "2. Introduce a baseline function for the rewards. This will also require refitting the baseline; we recommend using a linear function and Numpy's linear algebra solver. \n",
    "3. Try a neural network architecture which is substantially different from the current one we are using. Try using two hidden layers (instead of one) and/or using sigmoid non-linearity.\n",
    "4. Extend the model to control more than two actions. You should use a softmax output. Try it, e.g. on Pong with the default action (actions [0,2,3]). \n",
    "5. Try an environment other than CartPole or Pong and see how the same architecture works (you need to look up the documentation for OpenAI gym, and run get_action_meanings on the environment). You will need to check the following: (1) that the game can be reduced to two controls, or that you implemented part 4 above, (2) that the preprocessing procedure makes sense, and (3) that your reward discounting is appropriate - some environments restart each time a reward is returned. \n",
    "\n",
    "State which one of these you are doing in the following cell(s). Describe results/statistics, show at least one plot, and provide at least one conclusion in the following cell.\n",
    "\n",
    "These experiments will generally require you to write code outside of the areas you wrote earlier, so make sure you at least put in a code comment somewhere to explain what is new.\n",
    "\n",
    "If you do an extension, modify the names of the log files e.g. `PG.running_rewards` to keep them distinct. "
   ]
  },
  {
   "cell_type": "code",
   "execution_count": null,
   "metadata": {
    "collapsed": true
   },
   "outputs": [],
   "source": [
    "# TODO Report here with plots, etc."
   ]
  }
 ],
 "metadata": {
  "anaconda-cloud": {},
  "kernelspec": {
   "display_name": "Python [conda env:pygen2]",
   "language": "python",
   "name": "conda-env-pygen2-py"
  },
  "language_info": {
   "codemirror_mode": {
    "name": "ipython",
    "version": 2
   },
   "file_extension": ".py",
   "mimetype": "text/x-python",
   "name": "python",
   "nbconvert_exporter": "python",
   "pygments_lexer": "ipython2",
   "version": "2.7.12"
  }
 },
 "nbformat": 4,
 "nbformat_minor": 1
}
